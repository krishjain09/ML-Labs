{
 "cells": [
  {
   "cell_type": "code",
   "execution_count": 18,
   "id": "1050b711-35cc-41f9-a020-7a576984456e",
   "metadata": {},
   "outputs": [],
   "source": [
    "from sklearn.model_selection import train_test_split\n",
    "from sklearn.linear_model import LinearRegression\n",
    "import pandas as pd\n",
    "import matplotlib.pyplot as plt"
   ]
  },
  {
   "cell_type": "code",
   "execution_count": 19,
   "id": "a0dc135c-3ee1-47e2-aa4e-91627c4efad0",
   "metadata": {},
   "outputs": [],
   "source": [
    "data=pd.read_csv(\"cars.csv\")"
   ]
  },
  {
   "cell_type": "code",
   "execution_count": 20,
   "id": "9f9335c2-d77b-4a02-8094-89a9d01d99ba",
   "metadata": {},
   "outputs": [
    {
     "name": "stdout",
     "output_type": "stream",
     "text": [
      "   Car_ID    Brand    Model  Year  Kilometers_Driven Fuel_Type  ... Owner_Type Mileage  Engine  Power  Seats    Price\n",
      "0       1   Toyota  Corolla  2018              50000    Petrol  ...      First      15    1498    108      5   800000\n",
      "1       2    Honda    Civic  2019              40000    Petrol  ...     Second      17    1597    140      5  1000000\n",
      "2       3     Ford  Mustang  2017              20000    Petrol  ...      First      10    4951    395      4  2500000\n",
      "3       4   Maruti    Swift  2020              30000    Diesel  ...      Third      23    1248     74      5   600000\n",
      "4       5  Hyundai   Sonata  2016              60000    Diesel  ...     Second      18    1999    194      5   850000\n",
      "\n",
      "[5 rows x 13 columns]\n",
      "Car_ID               0\n",
      "Brand                0\n",
      "Model                0\n",
      "Year                 0\n",
      "Kilometers_Driven    0\n",
      "Fuel_Type            0\n",
      "Transmission         0\n",
      "Owner_Type           0\n",
      "Mileage              0\n",
      "Engine               0\n",
      "Power                0\n",
      "Seats                0\n",
      "Price                0\n",
      "dtype: int64\n",
      "Car_ID               0\n",
      "Brand                0\n",
      "Model                0\n",
      "Year                 0\n",
      "Kilometers_Driven    0\n",
      "Fuel_Type            0\n",
      "Transmission         0\n",
      "Owner_Type           0\n",
      "Mileage              0\n",
      "Engine               0\n",
      "Power                0\n",
      "Seats                0\n",
      "Price                0\n",
      "dtype: int64\n"
     ]
    }
   ],
   "source": [
    "print(data.head())\n",
    "print(data.isnull().sum())\n",
    "data.dropna()\n",
    "print(data.isnull().sum())"
   ]
  },
  {
   "cell_type": "code",
   "execution_count": 21,
   "id": "c6b6f91a-0b2d-43e7-bac3-fef9ee91a8eb",
   "metadata": {},
   "outputs": [
    {
     "name": "stdout",
     "output_type": "stream",
     "text": [
      "    Transmission  Owner_Type\n",
      "0              1           0\n",
      "1              0           1\n",
      "2              0           0\n",
      "3              1           2\n",
      "4              0           1\n",
      "..           ...         ...\n",
      "95             0           0\n",
      "96             1           1\n",
      "97             1           2\n",
      "98             0           1\n",
      "99             1           0\n",
      "\n",
      "[100 rows x 2 columns]\n"
     ]
    }
   ],
   "source": [
    "from sklearn.preprocessing import LabelEncoder\n",
    "le = LabelEncoder()\n",
    "data[\"Transmission\"]=le.fit_transform(data[\"Transmission\"]) #1-> Manual #0->Automatic\n",
    "data[\"Owner_Type\"]=le.fit_transform(data[\"Owner_Type\"]) #0-> First #1->Second #2->Third\n",
    "print(data[[\"Transmission\",\"Owner_Type\"]])"
   ]
  },
  {
   "cell_type": "markdown",
   "id": "23bbdb83-7f76-4de2-ba48-cf63c9df16e2",
   "metadata": {},
   "source": [
    "from sklearn.line"
   ]
  },
  {
   "cell_type": "code",
   "execution_count": 22,
   "id": "4eaa5250-53af-4333-95d0-e1fb76854891",
   "metadata": {},
   "outputs": [],
   "source": [
    "from sklearn.linear_model import LinearRegression\n",
    "from sklearn.preprocessing import StandardScaler\n",
    "X = data[[\"Transmission\",\"Owner_Type\"]]\n",
    "Y = data[\"Price\"]\n",
    "X_train,X_test,Y_train,Y_test = train_test_split(X,Y,test_size=0.3,random_state=0)\n",
    "\n",
    "scaler  = StandardScaler()\n",
    "X_train=scaler.fit_transform(X_train)\n",
    "X_test  = scaler.transform(X_test)\n",
    "\n",
    "model =LinearRegression()\n",
    "model.fit(X_train,Y_train)\n",
    "y_pred=model.predict(X_test)"
   ]
  },
  {
   "cell_type": "code",
   "execution_count": 43,
   "id": "0e867f62-5e73-4514-b307-1ca1ad1d9389",
   "metadata": {},
   "outputs": [
    {
     "data": {
      "image/png": "[encoded data removed]",
      "text/plain": [
       "<Figure size 1000x800 with 1 Axes>"
      ]
     },
     "metadata": {},
     "output_type": "display_data"
    }
   ],
   "source": [
    "plt.figure(figsize=(10,8))\n",
    "plt.scatter(range(len(Y_test)),Y_test,label='Actual',color='Blue')\n",
    "plt.scatter(range(len(y_pred)),y_pred,label='Predicted',color='Red')\n",
    "plt.title(\"Actual vs Predicted Selling Price\")\n",
    "plt.xlabel(\"Cars index\")\n",
    "plt.ylabel(\"Selling Price\")\n",
    "plt.legend()\n",
    "plt.show()"
   ]
  },
  {
   "cell_type": "code",
   "execution_count": 44,
   "id": "5c34473b-7188-4cd1-ac89-12a684077575",
   "metadata": {},
   "outputs": [
    {
     "name": "stdout",
     "output_type": "stream",
     "text": [
      "RMSE:  775367.6196854512\n"
     ]
    }
   ],
   "source": [
    "from sklearn.metrics import root_mean_squared_error\n",
    "print(\"RMSE: \", root_mean_squared_error(Y_test,y_pred))"
   ]
  },
  {
   "cell_type": "code",
   "execution_count": null,
   "id": "7e3d0af0-5cba-42e0-ac2f-3694464bd43b",
   "metadata": {},
   "outputs": [],
   "source": []
  }
 ],
 "metadata": {
  "kernelspec": {
   "display_name": "Python 3 (ipykernel)",
   "language": "python",
   "name": "python3"
  },
  "language_info": {
   "codemirror_mode": {
    "name": "ipython",
    "version": 3
   },
   "file_extension": ".py",
   "mimetype": "text/x-python",
   "name": "python",
   "nbconvert_exporter": "python",
   "pygments_lexer": "ipython3",
   "version": "3.13.9"
  }
 },
 "nbformat": 4,
 "nbformat_minor": 5
}
