{
 "cells": [
  {
   "cell_type": "code",
   "execution_count": 33,
   "id": "a65ec152-651b-40eb-b0d5-2fa79c69e6a7",
   "metadata": {},
   "outputs": [],
   "source": [
    "from sklearn.model_selection import train_test_split\n",
    "from sklearn.preprocessing import StandardScaler, LabelEncoder\n",
    "import pandas as pd\n",
    "import seaborn as sns\n",
    "import matplotlib.pyplot as plt\n",
    "from sklearn.svm import SVC\n",
    "from sklearn.metrics import accuracy_score,confusion_matrix, precision_score"
   ]
  },
  {
   "cell_type": "code",
   "execution_count": 34,
   "id": "4f446a0d-7641-484e-9b97-7ad9d3cb0b01",
   "metadata": {},
   "outputs": [
    {
     "name": "stdout",
     "output_type": "stream",
     "text": [
      "    User ID  Gender  Age  EstimatedSalary  Purchased\n",
      "0  15624510    Male   19            19000          0\n",
      "1  15810944    Male   35            20000          0\n",
      "2  15668575  Female   26            43000          0\n",
      "3  15603246  Female   27            57000          0\n",
      "4  15804002    Male   19            76000          0\n"
     ]
    }
   ],
   "source": [
    "data=pd.read_csv(\"Social_Network_Ads.csv\")\n",
    "print(data.head())"
   ]
  },
  {
   "cell_type": "code",
   "execution_count": 35,
   "id": "b41c9207-110d-4d2e-9204-b3ae2c9ccf9e",
   "metadata": {},
   "outputs": [
    {
     "name": "stdout",
     "output_type": "stream",
     "text": [
      "0    1\n",
      "1    1\n",
      "2    0\n",
      "3    0\n",
      "4    1\n",
      "Name: Gender, dtype: int64\n"
     ]
    }
   ],
   "source": [
    "le = LabelEncoder()\n",
    "data[\"Gender\"]=le.fit_transform(data[\"Gender\"])\n",
    "print(data[\"Gender\"].head())"
   ]
  },
  {
   "cell_type": "code",
   "execution_count": 36,
   "id": "395b4ef7-ab41-46c1-a8c3-6d413814db62",
   "metadata": {},
   "outputs": [],
   "source": [
    "X = data[[\"Gender\",\"Age\",\"EstimatedSalary\"]]\n",
    "Y = data[\"Purchased\"]"
   ]
  },
  {
   "cell_type": "code",
   "execution_count": 37,
   "id": "3c069d2a-5f47-42bb-82fc-b8a75b8d1d33",
   "metadata": {},
   "outputs": [
    {
     "name": "stdout",
     "output_type": "stream",
     "text": [
      "   Gender  Age  EstimatedSalary\n",
      "0       1   19            19000\n",
      "1       1   35            20000\n",
      "2       0   26            43000\n",
      "3       0   27            57000\n",
      "4       1   19            76000\n",
      "0    0\n",
      "1    0\n",
      "2    0\n",
      "3    0\n",
      "4    0\n",
      "Name: Purchased, dtype: int64\n"
     ]
    }
   ],
   "source": [
    "print(X.head())\n",
    "print(Y.head())"
   ]
  },
  {
   "cell_type": "code",
   "execution_count": 38,
   "id": "51ee3fe2-943a-4782-a91e-358832a0e808",
   "metadata": {},
   "outputs": [],
   "source": [
    "X_train,X_test,Y_train,Y_test = train_test_split(X,Y,test_size=0.3,random_state=0)"
   ]
  },
  {
   "cell_type": "code",
   "execution_count": 39,
   "id": "0b95c1fe-1651-4983-bbff-14475b302f25",
   "metadata": {},
   "outputs": [],
   "source": [
    "scaler = StandardScaler()\n",
    "X_train=scaler.fit_transform(X_train)\n",
    "X_test = scaler.transform(X_test)"
   ]
  },
  {
   "cell_type": "code",
   "execution_count": 32,
   "id": "d0534fe7-ee91-4467-932a-855c3ed0b80f",
   "metadata": {},
   "outputs": [],
   "source": [
    "svm=SVC(kernel='linear',random_state=0)\n",
    "svm.fit(X_train,Y_train)\n",
    "y_pred=svm.predict(X_test)"
   ]
  },
  {
   "cell_type": "code",
   "execution_count": 43,
   "id": "8f74240e-cf56-4df1-916d-6ea07604d33b",
   "metadata": {},
   "outputs": [
    {
     "data": {
      "text/plain": [
       "<Axes: >"
      ]
     },
     "execution_count": 43,
     "metadata": {},
     "output_type": "execute_result"
    },
    {
     "data": {
      "image/png": "[encoded data removed]",
      "text/plain": [
       "<Figure size 1200x800 with 2 Axes>"
      ]
     },
     "metadata": {},
     "output_type": "display_data"
    }
   ],
   "source": [
    "cm=confusion_matrix(Y_test,y_pred)\n",
    "plt.figure(figsize=(12,8))\n",
    "sns.heatmap(cm,annot=True,xticklabels=([\"Not Purchased\",\"Purchased\"]),yticklabels=([\"Not Purchased\",\"Purchased\"]),cmap='Blues')\n"
   ]
  },
  {
   "cell_type": "code",
   "execution_count": 47,
   "id": "07317d2a-5e09-4812-9728-973e016da08f",
   "metadata": {},
   "outputs": [
    {
     "name": "stdout",
     "output_type": "stream",
     "text": [
      "Precision Score 0.8785791953606379\n"
     ]
    }
   ],
   "source": [
    "print(\"Precision Score\" ,precision_score(Y_test,y_pred,average='macro'))"
   ]
  },
  {
   "cell_type": "code",
   "execution_count": null,
   "id": "2c9e4830-fc40-4b36-890f-187777592d67",
   "metadata": {},
   "outputs": [],
   "source": []
  }
 ],
 "metadata": {
  "kernelspec": {
   "display_name": "Python 3 (ipykernel)",
   "language": "python",
   "name": "python3"
  },
  "language_info": {
   "codemirror_mode": {
    "name": "ipython",
    "version": 3
   },
   "file_extension": ".py",
   "mimetype": "text/x-python",
   "name": "python",
   "nbconvert_exporter": "python",
   "pygments_lexer": "ipython3",
   "version": "3.13.9"
  }
 },
 "nbformat": 4,
 "nbformat_minor": 5
}
