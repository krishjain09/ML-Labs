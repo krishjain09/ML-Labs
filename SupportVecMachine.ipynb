{
 "cells": [
  {
   "cell_type": "code",
   "execution_count": 3,
   "id": "6b258ab1-ad5b-434b-899c-34b7883ff6e3",
   "metadata": {},
   "outputs": [],
   "source": [
    "from sklearn.datasets import load_iris\n",
    "from sklearn.model_selection import train_test_split\n",
    "from sklearn.metrics import accuracy_score,classification_report,confusion_matrix\n",
    "from sklearn.svm import SVC\n",
    "from sklearn.preprocessing import StandardScaler"
   ]
  },
  {
   "cell_type": "code",
   "execution_count": 4,
   "id": "19630b7a-9cd8-41ad-8db1-0ee93b171433",
   "metadata": {},
   "outputs": [],
   "source": [
    "#Load iris data\n",
    "iris = load_iris()\n",
    "X = iris.data\n",
    "Y = iris.target"
   ]
  },
  {
   "cell_type": "code",
   "execution_count": 5,
   "id": "787eff65-2921-4963-8af7-6c0b3092f5bc",
   "metadata": {},
   "outputs": [],
   "source": [
    "#Spilt the datasets for training and testing \n",
    "X_train,X_test,Y_train,Y_test=train_test_split(X,Y,test_size=0.3,random_state=42);"
   ]
  },
  {
   "cell_type": "code",
   "execution_count": 6,
   "id": "1914d545-ed13-4e17-a440-a332fbba541d",
   "metadata": {},
   "outputs": [],
   "source": [
    "#Scaling or Normalization\n",
    "scale=StandardScaler()\n",
    "X_train = scale.fit_transform(X_train)\n",
    "X_test = scale.transform(X_test)"
   ]
  },
  {
   "cell_type": "code",
   "execution_count": 9,
   "id": "0da4c29e-68da-43f4-a7fa-5a6b1bdbb286",
   "metadata": {},
   "outputs": [],
   "source": [
    "kernels = ['linear','rbf','poly','sigmoid']\n",
    "results ={}"
   ]
  },
  {
   "cell_type": "code",
   "execution_count": 13,
   "id": "8d6d7ea0-773b-4fa6-b187-6b0ee957c2ea",
   "metadata": {},
   "outputs": [
    {
     "name": "stdout",
     "output_type": "stream",
     "text": [
      "Kernel:  linear\n",
      "Accuracy Score:  0.9777777777777777\n",
      "Confusion metrix [[19  0  0]\n",
      " [ 0 12  0]\n",
      " [ 0  1 13]]\n",
      "Classification Report               precision    recall  f1-score   support\n",
      "\n",
      "           0       1.00      1.00      1.00        19\n",
      "           1       0.92      1.00      0.96        12\n",
      "           2       1.00      0.93      0.96        14\n",
      "\n",
      "    accuracy                           0.98        45\n",
      "   macro avg       0.97      0.98      0.97        45\n",
      "weighted avg       0.98      0.98      0.98        45\n",
      "\n",
      "Kernel:  rbf\n",
      "Accuracy Score:  1.0\n",
      "Confusion metrix [[19  0  0]\n",
      " [ 0 13  0]\n",
      " [ 0  0 13]]\n",
      "Classification Report               precision    recall  f1-score   support\n",
      "\n",
      "           0       1.00      1.00      1.00        19\n",
      "           1       1.00      1.00      1.00        13\n",
      "           2       1.00      1.00      1.00        13\n",
      "\n",
      "    accuracy                           1.00        45\n",
      "   macro avg       1.00      1.00      1.00        45\n",
      "weighted avg       1.00      1.00      1.00        45\n",
      "\n",
      "Kernel:  poly\n",
      "Accuracy Score:  0.9555555555555556\n",
      "Confusion metrix [[19  0  0]\n",
      " [ 0 13  2]\n",
      " [ 0  0 11]]\n",
      "Classification Report               precision    recall  f1-score   support\n",
      "\n",
      "           0       1.00      1.00      1.00        19\n",
      "           1       1.00      0.87      0.93        15\n",
      "           2       0.85      1.00      0.92        11\n",
      "\n",
      "    accuracy                           0.96        45\n",
      "   macro avg       0.95      0.96      0.95        45\n",
      "weighted avg       0.96      0.96      0.96        45\n",
      "\n",
      "Kernel:  sigmoid\n",
      "Accuracy Score:  0.8888888888888888\n",
      "Confusion metrix [[19  0  0]\n",
      " [ 0  9  1]\n",
      " [ 0  4 12]]\n",
      "Classification Report               precision    recall  f1-score   support\n",
      "\n",
      "           0       1.00      1.00      1.00        19\n",
      "           1       0.69      0.90      0.78        10\n",
      "           2       0.92      0.75      0.83        16\n",
      "\n",
      "    accuracy                           0.89        45\n",
      "   macro avg       0.87      0.88      0.87        45\n",
      "weighted avg       0.90      0.89      0.89        45\n",
      "\n"
     ]
    }
   ],
   "source": [
    "for kernel in kernels:\n",
    "    clf = SVC(kernel = kernel , random_state=0)\n",
    "    clf.fit(X_train,Y_train)\n",
    "    Y_pred=clf.predict(X_test)\n",
    "    acc = accuracy_score(Y_pred,Y_test)\n",
    "    results[kernel]=acc\n",
    "    print(\"Kernel: \",kernel)\n",
    "    print(\"Accuracy Score: \", acc)\n",
    "    print(\"Confusion metrix\",confusion_matrix(Y_pred,Y_test))\n",
    "    print(\"Classification Report\",classification_report(Y_pred,Y_test))\n"
   ]
  },
  {
   "cell_type": "code",
   "execution_count": 16,
   "id": "a2de2de8-e3a9-41d2-970f-e50ae877502e",
   "metadata": {},
   "outputs": [
    {
     "name": "stdout",
     "output_type": "stream",
     "text": [
      "Best kernel:  rbf With Accuracy 1.0\n"
     ]
    }
   ],
   "source": [
    "best_kernel = max(results,key=results.get)\n",
    "print(\"Best kernel: \" , best_kernel, \"With Accuracy\" , results[best_kernel])"
   ]
  },
  {
   "cell_type": "code",
   "execution_count": null,
   "id": "25bd7140-99f6-4c67-bb8f-0c6eabe3353e",
   "metadata": {},
   "outputs": [],
   "source": []
  }
 ],
 "metadata": {
  "kernelspec": {
   "display_name": "Python 3 (ipykernel)",
   "language": "python",
   "name": "python3"
  },
  "language_info": {
   "codemirror_mode": {
    "name": "ipython",
    "version": 3
   },
   "file_extension": ".py",
   "mimetype": "text/x-python",
   "name": "python",
   "nbconvert_exporter": "python",
   "pygments_lexer": "ipython3",
   "version": "3.13.9"
  }
 },
 "nbformat": 4,
 "nbformat_minor": 5
}
